{
 "cells": [
  {
   "cell_type": "markdown",
   "metadata": {},
   "source": [
    "##### Подключение необходимых библиотек"
   ]
  },
  {
   "cell_type": "code",
   "execution_count": 104,
   "metadata": {},
   "outputs": [],
   "source": [
    "#Работа с данными\n",
    "import pandas as pd\n",
    "import numpy as np\n",
    "from sklearn.model_selection import train_test_split\n",
    "from sklearn import preprocessing\n",
    "\n",
    "#Оптимизация гиперпараметров\n",
    "from sklearn.model_selection import GridSearchCV\n",
    "from sklearn.model_selection import RandomizedSearchCV\n",
    "\n",
    "#модели\n",
    "from sklearn.neighbors import KNeighborsClassifier  \n",
    "from sklearn.ensemble import RandomForestClassifier\n",
    "from sklearn.tree import DecisionTreeClassifier \n",
    "from sklearn.linear_model import LogisticRegression\n",
    "from sklearn.svm import SVC \n",
    "from sklearn.naive_bayes import GaussianNB\n",
    "\n",
    "#Качество моделей\n",
    "from sklearn.model_selection import cross_val_score\n",
    "from sklearn.metrics import roc_auc_score\n",
    "from sklearn.metrics import make_scorer\n",
    "from sklearn.metrics import multilabel_confusion_matrix"
   ]
  },
  {
   "cell_type": "markdown",
   "metadata": {},
   "source": [
    "##### Получение данных и обзор"
   ]
  },
  {
   "cell_type": "code",
   "execution_count": 105,
   "metadata": {},
   "outputs": [
    {
     "data": {
      "text/plain": [
       "Id        object\n",
       "Name      object\n",
       "Read       int64\n",
       "Write      int64\n",
       "FA         int64\n",
       "FAR        int64\n",
       "FAW        int64\n",
       "FD         int64\n",
       "FR         int64\n",
       "WE       float64\n",
       "RE       float64\n",
       "LZJe       int64\n",
       "LZJc       int64\n",
       "FEC        int64\n",
       "FER        int64\n",
       "FEW        int64\n",
       "HER        int64\n",
       "REE       object\n",
       "WEE       object\n",
       "PN        object\n",
       "Class      int64\n",
       "dtype: object"
      ]
     },
     "execution_count": 105,
     "metadata": {},
     "output_type": "execute_result"
    }
   ],
   "source": [
    "df=pd.read_excel('dataset.xlsx',sheet_name='full_dataset')\n",
    "df.dtypes"
   ]
  },
  {
   "cell_type": "code",
   "execution_count": 106,
   "metadata": {},
   "outputs": [
    {
     "data": {
      "text/html": [
       "<div>\n",
       "<style scoped>\n",
       "    .dataframe tbody tr th:only-of-type {\n",
       "        vertical-align: middle;\n",
       "    }\n",
       "\n",
       "    .dataframe tbody tr th {\n",
       "        vertical-align: top;\n",
       "    }\n",
       "\n",
       "    .dataframe thead th {\n",
       "        text-align: right;\n",
       "    }\n",
       "</style>\n",
       "<table border=\"1\" class=\"dataframe\">\n",
       "  <thead>\n",
       "    <tr style=\"text-align: right;\">\n",
       "      <th></th>\n",
       "      <th>Id</th>\n",
       "      <th>Name</th>\n",
       "      <th>Read</th>\n",
       "      <th>Write</th>\n",
       "      <th>FA</th>\n",
       "      <th>FAR</th>\n",
       "      <th>FAW</th>\n",
       "      <th>FD</th>\n",
       "      <th>FR</th>\n",
       "      <th>WE</th>\n",
       "      <th>...</th>\n",
       "      <th>LZJe</th>\n",
       "      <th>LZJc</th>\n",
       "      <th>FEC</th>\n",
       "      <th>FER</th>\n",
       "      <th>FEW</th>\n",
       "      <th>HER</th>\n",
       "      <th>REE</th>\n",
       "      <th>WEE</th>\n",
       "      <th>PN</th>\n",
       "      <th>Class</th>\n",
       "    </tr>\n",
       "  </thead>\n",
       "  <tbody>\n",
       "    <tr>\n",
       "      <th>86</th>\n",
       "      <td>3660</td>\n",
       "      <td>ShellExperienceHost.exe</td>\n",
       "      <td>563</td>\n",
       "      <td>0</td>\n",
       "      <td>14</td>\n",
       "      <td>14</td>\n",
       "      <td>0</td>\n",
       "      <td>0</td>\n",
       "      <td>0</td>\n",
       "      <td>0.000000</td>\n",
       "      <td>...</td>\n",
       "      <td>0</td>\n",
       "      <td>13</td>\n",
       "      <td>0</td>\n",
       "      <td>4</td>\n",
       "      <td>4</td>\n",
       "      <td>0</td>\n",
       "      <td>.bin.jpg.png</td>\n",
       "      <td>.bin.jpg.png</td>\n",
       "      <td>ShellExperienceHost.exe</td>\n",
       "      <td>0</td>\n",
       "    </tr>\n",
       "    <tr>\n",
       "      <th>81</th>\n",
       "      <td>88</td>\n",
       "      <td>Registry</td>\n",
       "      <td>0</td>\n",
       "      <td>808</td>\n",
       "      <td>8</td>\n",
       "      <td>0</td>\n",
       "      <td>8</td>\n",
       "      <td>0</td>\n",
       "      <td>0</td>\n",
       "      <td>4.741343</td>\n",
       "      <td>...</td>\n",
       "      <td>0</td>\n",
       "      <td>0</td>\n",
       "      <td>0</td>\n",
       "      <td>0</td>\n",
       "      <td>4</td>\n",
       "      <td>0</td>\n",
       "      <td>nan</td>\n",
       "      <td>.DAT.LOG1.LOG2.dat</td>\n",
       "      <td>Registry</td>\n",
       "      <td>0</td>\n",
       "    </tr>\n",
       "    <tr>\n",
       "      <th>70</th>\n",
       "      <td>5608</td>\n",
       "      <td>OneDrive.exe</td>\n",
       "      <td>13554</td>\n",
       "      <td>33</td>\n",
       "      <td>16</td>\n",
       "      <td>14</td>\n",
       "      <td>2</td>\n",
       "      <td>0</td>\n",
       "      <td>0</td>\n",
       "      <td>4.536111</td>\n",
       "      <td>...</td>\n",
       "      <td>0</td>\n",
       "      <td>23</td>\n",
       "      <td>0</td>\n",
       "      <td>2</td>\n",
       "      <td>4</td>\n",
       "      <td>0</td>\n",
       "      <td>.exe.ini</td>\n",
       "      <td>.aodl.exe.ini.log</td>\n",
       "      <td>OneDrive.exe</td>\n",
       "      <td>0</td>\n",
       "    </tr>\n",
       "    <tr>\n",
       "      <th>33</th>\n",
       "      <td>3200</td>\n",
       "      <td>Zv7uN.exe</td>\n",
       "      <td>1415475</td>\n",
       "      <td>1405763</td>\n",
       "      <td>542</td>\n",
       "      <td>540</td>\n",
       "      <td>534</td>\n",
       "      <td>855</td>\n",
       "      <td>855</td>\n",
       "      <td>7.999891</td>\n",
       "      <td>...</td>\n",
       "      <td>79</td>\n",
       "      <td>139</td>\n",
       "      <td>855</td>\n",
       "      <td>23</td>\n",
       "      <td>25</td>\n",
       "      <td>0</td>\n",
       "      <td>.DAT.cpp.csv.doc.docx.ini.jpg.lnk.m.md.o.pdf.p...</td>\n",
       "      <td>.DAT.Zv7uN.cpp.csv.doc.docx.ini.jpg.lnk.m.md.o...</td>\n",
       "      <td>Zv7uN</td>\n",
       "      <td>1</td>\n",
       "    </tr>\n",
       "    <tr>\n",
       "      <th>103</th>\n",
       "      <td>4964</td>\n",
       "      <td>W10Privacy.exe</td>\n",
       "      <td>5793</td>\n",
       "      <td>367</td>\n",
       "      <td>19</td>\n",
       "      <td>19</td>\n",
       "      <td>11</td>\n",
       "      <td>19</td>\n",
       "      <td>0</td>\n",
       "      <td>4.952679</td>\n",
       "      <td>...</td>\n",
       "      <td>0</td>\n",
       "      <td>81</td>\n",
       "      <td>0</td>\n",
       "      <td>7</td>\n",
       "      <td>7</td>\n",
       "      <td>0</td>\n",
       "      <td>.dat.jpg.log.reg.tmp.txt</td>\n",
       "      <td>.dat.jpg.log.reg.tmp.txt</td>\n",
       "      <td>W10Privacy.exe</td>\n",
       "      <td>0</td>\n",
       "    </tr>\n",
       "  </tbody>\n",
       "</table>\n",
       "<p>5 rows × 21 columns</p>\n",
       "</div>"
      ],
      "text/plain": [
       "       Id                     Name     Read    Write   FA  FAR  FAW   FD   FR  \\\n",
       "86   3660  ShellExperienceHost.exe      563        0   14   14    0    0    0   \n",
       "81     88                 Registry        0      808    8    0    8    0    0   \n",
       "70   5608             OneDrive.exe    13554       33   16   14    2    0    0   \n",
       "33   3200                Zv7uN.exe  1415475  1405763  542  540  534  855  855   \n",
       "103  4964           W10Privacy.exe     5793      367   19   19   11   19    0   \n",
       "\n",
       "           WE  ...  LZJe  LZJc  FEC  FER  FEW  HER  \\\n",
       "86   0.000000  ...     0    13    0    4    4    0   \n",
       "81   4.741343  ...     0     0    0    0    4    0   \n",
       "70   4.536111  ...     0    23    0    2    4    0   \n",
       "33   7.999891  ...    79   139  855   23   25    0   \n",
       "103  4.952679  ...     0    81    0    7    7    0   \n",
       "\n",
       "                                                   REE  \\\n",
       "86                                        .bin.jpg.png   \n",
       "81                                                 nan   \n",
       "70                                            .exe.ini   \n",
       "33   .DAT.cpp.csv.doc.docx.ini.jpg.lnk.m.md.o.pdf.p...   \n",
       "103                           .dat.jpg.log.reg.tmp.txt   \n",
       "\n",
       "                                                   WEE  \\\n",
       "86                                        .bin.jpg.png   \n",
       "81                                  .DAT.LOG1.LOG2.dat   \n",
       "70                                   .aodl.exe.ini.log   \n",
       "33   .DAT.Zv7uN.cpp.csv.doc.docx.ini.jpg.lnk.m.md.o...   \n",
       "103                           .dat.jpg.log.reg.tmp.txt   \n",
       "\n",
       "                          PN Class  \n",
       "86   ShellExperienceHost.exe     0  \n",
       "81                  Registry     0  \n",
       "70              OneDrive.exe     0  \n",
       "33                     Zv7uN     1  \n",
       "103           W10Privacy.exe     0  \n",
       "\n",
       "[5 rows x 21 columns]"
      ]
     },
     "execution_count": 106,
     "metadata": {},
     "output_type": "execute_result"
    }
   ],
   "source": [
    "df['REE']=df['REE'].astype('str')\n",
    "df['WEE']=df['WEE'].astype('str')\n",
    "df.sample(5)"
   ]
  },
  {
   "cell_type": "markdown",
   "metadata": {},
   "source": [
    "##### Формирование показателей для модели"
   ]
  },
  {
   "cell_type": "markdown",
   "metadata": {},
   "source": [
    "Добавление показателя о том, что расширение на чтение или запись превышает 4 символа"
   ]
  },
  {
   "cell_type": "code",
   "execution_count": 107,
   "metadata": {},
   "outputs": [],
   "source": [
    "r=[]\n",
    "w=[]\n",
    "for i in df['REE']:\n",
    "    for j,st in enumerate(i.split('.')):\n",
    "        if len(st)>4:\n",
    "            r.append(1)\n",
    "            break\n",
    "        if j==len(i.split('.'))-1:\n",
    "            r.append(0)\n",
    "for i in df['REE']:\n",
    "    for j,st in enumerate(i.split('.')):\n",
    "        if len(st)>4:\n",
    "            w.append(1)\n",
    "            break\n",
    "        if j==len(i.split('.'))-1:\n",
    "            w.append(0)\n",
    "df['long_read_ext']=pd.Series(r)\n",
    "df['long_write_ext']=pd.Series(w)"
   ]
  },
  {
   "cell_type": "markdown",
   "metadata": {},
   "source": [
    "Добавление остальных переменных"
   ]
  },
  {
   "cell_type": "code",
   "execution_count": 108,
   "metadata": {},
   "outputs": [],
   "source": [
    "df['files_read_write']=df['FAR']/df['FAW']\n",
    "df['files_del_acc']=df['FD']/df['FA']\n",
    "df['files_read_acc']=df['FAR']/df['FA']\n",
    "df['files_write_acc']=df['FAW']/df['FA']\n",
    "df['volume_read_write']=df['Read']/df['Write']\n",
    "df['entropy_write_read']=(df['WE']-df['RE'])/(8-df['RE'])\n",
    "df['files_deleted_read']=df['FD']/df['FAR']\n",
    "df['files_deleted_acc']=df['FD']/df['FA']\n",
    "df['files_deleted_write']=df['FD']/df['FAW']\n",
    "df['files_renamed_accessed']=df['FR']/df['FA']\n",
    "df['files_renamed_read']=df['FR']/df['FAR']\n",
    "df['files_renamed_write']=df['FR']/df['FAW']"
   ]
  },
  {
   "cell_type": "code",
   "execution_count": 109,
   "metadata": {
    "scrolled": true
   },
   "outputs": [
    {
     "data": {
      "text/plain": [
       "Id                         0\n",
       "Name                      18\n",
       "Read                       0\n",
       "Write                      0\n",
       "FA                         0\n",
       "FAR                        0\n",
       "FAW                        0\n",
       "FD                         0\n",
       "FR                         0\n",
       "WE                         0\n",
       "RE                         0\n",
       "LZJe                       0\n",
       "LZJc                       0\n",
       "FEC                        0\n",
       "FER                        0\n",
       "FEW                        0\n",
       "HER                        0\n",
       "REE                        0\n",
       "WEE                        0\n",
       "PN                        14\n",
       "Class                      0\n",
       "long_read_ext              0\n",
       "long_write_ext             0\n",
       "files_read_write          19\n",
       "files_del_acc              0\n",
       "files_read_acc             0\n",
       "files_write_acc            0\n",
       "volume_read_write         21\n",
       "entropy_write_read         0\n",
       "files_deleted_read         7\n",
       "files_deleted_acc          0\n",
       "files_deleted_write       19\n",
       "files_renamed_accessed     0\n",
       "files_renamed_read         7\n",
       "files_renamed_write       19\n",
       "dtype: int64"
      ]
     },
     "execution_count": 109,
     "metadata": {},
     "output_type": "execute_result"
    }
   ],
   "source": [
    "df=df.replace(-np.Inf,np.nan).copy()\n",
    "df=df.replace(np.Inf,np.nan).copy()\n",
    "df.apply(lambda x: sum(x.isnull()), axis=0)"
   ]
  },
  {
   "cell_type": "code",
   "execution_count": 110,
   "metadata": {},
   "outputs": [],
   "source": [
    "df['Name']=df['Name'].fillna('')\n",
    "df['PN']=df['PN'].fillna('')"
   ]
  },
  {
   "cell_type": "code",
   "execution_count": 111,
   "metadata": {},
   "outputs": [],
   "source": [
    "df=df.dropna().copy()"
   ]
  },
  {
   "cell_type": "code",
   "execution_count": 112,
   "metadata": {},
   "outputs": [
    {
     "data": {
      "text/html": [
       "<div>\n",
       "<style scoped>\n",
       "    .dataframe tbody tr th:only-of-type {\n",
       "        vertical-align: middle;\n",
       "    }\n",
       "\n",
       "    .dataframe tbody tr th {\n",
       "        vertical-align: top;\n",
       "    }\n",
       "\n",
       "    .dataframe thead th {\n",
       "        text-align: right;\n",
       "    }\n",
       "</style>\n",
       "<table border=\"1\" class=\"dataframe\">\n",
       "  <thead>\n",
       "    <tr style=\"text-align: right;\">\n",
       "      <th></th>\n",
       "      <th>Id</th>\n",
       "      <th>Name</th>\n",
       "      <th>Read</th>\n",
       "      <th>Write</th>\n",
       "      <th>FA</th>\n",
       "      <th>FAR</th>\n",
       "      <th>FAW</th>\n",
       "      <th>FD</th>\n",
       "      <th>FR</th>\n",
       "      <th>WE</th>\n",
       "      <th>...</th>\n",
       "      <th>files_read_acc</th>\n",
       "      <th>files_write_acc</th>\n",
       "      <th>volume_read_write</th>\n",
       "      <th>entropy_write_read</th>\n",
       "      <th>files_deleted_read</th>\n",
       "      <th>files_deleted_acc</th>\n",
       "      <th>files_deleted_write</th>\n",
       "      <th>files_renamed_accessed</th>\n",
       "      <th>files_renamed_read</th>\n",
       "      <th>files_renamed_write</th>\n",
       "    </tr>\n",
       "    <tr>\n",
       "      <th>Class</th>\n",
       "      <th></th>\n",
       "      <th></th>\n",
       "      <th></th>\n",
       "      <th></th>\n",
       "      <th></th>\n",
       "      <th></th>\n",
       "      <th></th>\n",
       "      <th></th>\n",
       "      <th></th>\n",
       "      <th></th>\n",
       "      <th></th>\n",
       "      <th></th>\n",
       "      <th></th>\n",
       "      <th></th>\n",
       "      <th></th>\n",
       "      <th></th>\n",
       "      <th></th>\n",
       "      <th></th>\n",
       "      <th></th>\n",
       "      <th></th>\n",
       "      <th></th>\n",
       "    </tr>\n",
       "  </thead>\n",
       "  <tbody>\n",
       "    <tr>\n",
       "      <th>0</th>\n",
       "      <td>58</td>\n",
       "      <td>58</td>\n",
       "      <td>58</td>\n",
       "      <td>58</td>\n",
       "      <td>58</td>\n",
       "      <td>58</td>\n",
       "      <td>58</td>\n",
       "      <td>58</td>\n",
       "      <td>58</td>\n",
       "      <td>58</td>\n",
       "      <td>...</td>\n",
       "      <td>58</td>\n",
       "      <td>58</td>\n",
       "      <td>58</td>\n",
       "      <td>58</td>\n",
       "      <td>58</td>\n",
       "      <td>58</td>\n",
       "      <td>58</td>\n",
       "      <td>58</td>\n",
       "      <td>58</td>\n",
       "      <td>58</td>\n",
       "    </tr>\n",
       "    <tr>\n",
       "      <th>1</th>\n",
       "      <td>34</td>\n",
       "      <td>34</td>\n",
       "      <td>34</td>\n",
       "      <td>34</td>\n",
       "      <td>34</td>\n",
       "      <td>34</td>\n",
       "      <td>34</td>\n",
       "      <td>34</td>\n",
       "      <td>34</td>\n",
       "      <td>34</td>\n",
       "      <td>...</td>\n",
       "      <td>34</td>\n",
       "      <td>34</td>\n",
       "      <td>34</td>\n",
       "      <td>34</td>\n",
       "      <td>34</td>\n",
       "      <td>34</td>\n",
       "      <td>34</td>\n",
       "      <td>34</td>\n",
       "      <td>34</td>\n",
       "      <td>34</td>\n",
       "    </tr>\n",
       "  </tbody>\n",
       "</table>\n",
       "<p>2 rows × 34 columns</p>\n",
       "</div>"
      ],
      "text/plain": [
       "       Id  Name  Read  Write  FA  FAR  FAW  FD  FR  WE  ...  files_read_acc  \\\n",
       "Class                                                   ...                   \n",
       "0      58    58    58     58  58   58   58  58  58  58  ...              58   \n",
       "1      34    34    34     34  34   34   34  34  34  34  ...              34   \n",
       "\n",
       "       files_write_acc  volume_read_write  entropy_write_read  \\\n",
       "Class                                                           \n",
       "0                   58                 58                  58   \n",
       "1                   34                 34                  34   \n",
       "\n",
       "       files_deleted_read  files_deleted_acc  files_deleted_write  \\\n",
       "Class                                                               \n",
       "0                      58                 58                   58   \n",
       "1                      34                 34                   34   \n",
       "\n",
       "       files_renamed_accessed  files_renamed_read  files_renamed_write  \n",
       "Class                                                                   \n",
       "0                          58                  58                   58  \n",
       "1                          34                  34                   34  \n",
       "\n",
       "[2 rows x 34 columns]"
      ]
     },
     "execution_count": 112,
     "metadata": {},
     "output_type": "execute_result"
    }
   ],
   "source": [
    "df.groupby('Class').count()"
   ]
  },
  {
   "cell_type": "markdown",
   "metadata": {},
   "source": [
    "##### Предобработка данных"
   ]
  },
  {
   "cell_type": "code",
   "execution_count": 113,
   "metadata": {},
   "outputs": [],
   "source": [
    "num_cols = ['files_read_write','files_del_acc','files_read_acc','files_write_acc','volume_read_write','entropy_write_read',\n",
    "            'files_deleted_read','files_deleted_acc','files_deleted_write','files_renamed_accessed','files_renamed_read','files_renamed_write']\n",
    "cat_cols = ['long_read_ext','long_write_ext']\n",
    "target_col = 'Class'\n",
    "cols = num_cols + cat_cols + [target_col]\n",
    "regr_cols=num_cols+cat_cols"
   ]
  },
  {
   "cell_type": "code",
   "execution_count": 114,
   "metadata": {},
   "outputs": [],
   "source": [
    "x_train, x_test, y_train, y_test = train_test_split(df[regr_cols], df[target_col], random_state=42,test_size=0.4)\n",
    "y_train=pd.DataFrame(y_train,columns=['Class'])\n",
    "y_test=pd.DataFrame(y_test,columns=['Class'])"
   ]
  },
  {
   "cell_type": "code",
   "execution_count": 115,
   "metadata": {},
   "outputs": [
    {
     "name": "stdout",
     "output_type": "stream",
     "text": [
      "Размер тренировочной выборки= 55\n",
      "Доля вредоносных процессов в тренировочной выборке 0.3273\n",
      "Размер тестовой выборки= 37\n",
      "Доля вредоносных процессов в тестовой выборке 0.4324\n"
     ]
    }
   ],
   "source": [
    "print('Размер тренировочной выборки= {0}'.format(len(y_train)))\n",
    "print('Доля вредоносных процессов в тренировочной выборке',round(float(y_train.sum()/y_train.count()),4))\n",
    "print('Размер тестовой выборки= {0}'.format(len(y_test)))\n",
    "print('Доля вредоносных процессов в тестовой выборке',round(float(y_test.sum()/y_test.count()),4))"
   ]
  },
  {
   "cell_type": "code",
   "execution_count": 116,
   "metadata": {},
   "outputs": [],
   "source": [
    "norm = preprocessing.StandardScaler() #Для стандартизации z-меток\n",
    "# norm = preprocessing.MaxAbsScaler() #Для стандартизации в интервал [-1;1]\n",
    "# norm = preprocessing.MinMaxScaler() #Для стандартизации в интервал [0;1]\n",
    "norm.fit(x_train)\n",
    "X= norm.transform(x_train) \n",
    "x_train = pd.DataFrame(X, index=x_train.index, columns=x_train.columns)"
   ]
  },
  {
   "cell_type": "code",
   "execution_count": 117,
   "metadata": {},
   "outputs": [],
   "source": [
    "norm = preprocessing.StandardScaler() #Для стандартизации z-меток\n",
    "# norm = preprocessing.MaxAbsScaler() #Для стандартизации в интервал [-1;1]\n",
    "# norm = preprocessing.MinMaxScaler() #Для стандартизации в интервал [0;1]\n",
    "norm.fit(x_test)\n",
    "X= norm.transform(x_test) \n",
    "x_test = pd.DataFrame(X, index=x_test.index, columns=x_test.columns)"
   ]
  },
  {
   "cell_type": "markdown",
   "metadata": {},
   "source": [
    "### Построение моделей"
   ]
  },
  {
   "cell_type": "markdown",
   "metadata": {},
   "source": [
    "Создание новой метрики качества"
   ]
  },
  {
   "cell_type": "code",
   "execution_count": 120,
   "metadata": {},
   "outputs": [],
   "source": [
    "def new_score(y_true,y_predict):\n",
    "    MCM=multilabel_confusion_matrix(y_true, y_predict)\n",
    "    tp=MCM[0,1,1]\n",
    "    fp=MCM[0,1,0]\n",
    "    fn=MCM[0,0,1]\n",
    "    tn=MCM[0,0,0]\n",
    "    specificity=tn/(tn+fp)\n",
    "    recall=tp/(tp+fn)\n",
    "    return ((2*specificity+recall)/3)"
   ]
  },
  {
   "cell_type": "code",
   "execution_count": 121,
   "metadata": {},
   "outputs": [],
   "source": [
    "new_scorer=make_scorer(new_score,greater_is_better=True)"
   ]
  },
  {
   "cell_type": "markdown",
   "metadata": {},
   "source": [
    "##### Поиск по сетке параметров моделей"
   ]
  },
  {
   "cell_type": "code",
   "execution_count": 122,
   "metadata": {},
   "outputs": [],
   "source": [
    "def search(x, y, model, param_names, grids):\n",
    "    parameters = {}\n",
    "    for i,p in enumerate(param_names):\n",
    "        parameters[p]=grids[i]\n",
    "    \n",
    "    CV_model = GridSearchCV(estimator=model, \n",
    "                            param_grid=parameters,\n",
    "                            cv=6, \n",
    "                            scoring=new_scorer,\n",
    "                            n_jobs=-1, \n",
    "                            verbose=10)\n",
    "    CV_model.fit(x, y)\n",
    "    means = CV_model.cv_results_['mean_test_score']\n",
    "    error = CV_model.cv_results_['std_test_score']\n",
    "    bp=CV_model.best_params_\n",
    "    bi=CV_model.best_index_\n",
    "    bs=CV_model.best_score_\n",
    "    return means,error,bp,bi,bs"
   ]
  },
  {
   "cell_type": "markdown",
   "metadata": {},
   "source": [
    "#### Деревья решений"
   ]
  },
  {
   "cell_type": "code",
   "execution_count": 138,
   "metadata": {},
   "outputs": [
    {
     "name": "stdout",
     "output_type": "stream",
     "text": [
      "Средний результат на тренировочной выборке равен  0.88413\n"
     ]
    },
    {
     "data": {
      "text/html": [
       "<div>\n",
       "<style scoped>\n",
       "    .dataframe tbody tr th:only-of-type {\n",
       "        vertical-align: middle;\n",
       "    }\n",
       "\n",
       "    .dataframe tbody tr th {\n",
       "        vertical-align: top;\n",
       "    }\n",
       "\n",
       "    .dataframe thead th {\n",
       "        text-align: right;\n",
       "    }\n",
       "</style>\n",
       "<table border=\"1\" class=\"dataframe\">\n",
       "  <thead>\n",
       "    <tr style=\"text-align: right;\">\n",
       "      <th></th>\n",
       "      <th>feature</th>\n",
       "      <th>importance</th>\n",
       "    </tr>\n",
       "  </thead>\n",
       "  <tbody>\n",
       "    <tr>\n",
       "      <th>5</th>\n",
       "      <td>entropy_write_read</td>\n",
       "      <td>0.640819</td>\n",
       "    </tr>\n",
       "    <tr>\n",
       "      <th>3</th>\n",
       "      <td>files_write_acc</td>\n",
       "      <td>0.264264</td>\n",
       "    </tr>\n",
       "    <tr>\n",
       "      <th>8</th>\n",
       "      <td>files_deleted_write</td>\n",
       "      <td>0.074324</td>\n",
       "    </tr>\n",
       "    <tr>\n",
       "      <th>13</th>\n",
       "      <td>long_write_ext</td>\n",
       "      <td>0.020592</td>\n",
       "    </tr>\n",
       "    <tr>\n",
       "      <th>0</th>\n",
       "      <td>files_read_write</td>\n",
       "      <td>0.000000</td>\n",
       "    </tr>\n",
       "    <tr>\n",
       "      <th>1</th>\n",
       "      <td>files_del_acc</td>\n",
       "      <td>0.000000</td>\n",
       "    </tr>\n",
       "    <tr>\n",
       "      <th>2</th>\n",
       "      <td>files_read_acc</td>\n",
       "      <td>0.000000</td>\n",
       "    </tr>\n",
       "    <tr>\n",
       "      <th>4</th>\n",
       "      <td>volume_read_write</td>\n",
       "      <td>0.000000</td>\n",
       "    </tr>\n",
       "    <tr>\n",
       "      <th>6</th>\n",
       "      <td>files_deleted_read</td>\n",
       "      <td>0.000000</td>\n",
       "    </tr>\n",
       "    <tr>\n",
       "      <th>7</th>\n",
       "      <td>files_deleted_acc</td>\n",
       "      <td>0.000000</td>\n",
       "    </tr>\n",
       "    <tr>\n",
       "      <th>9</th>\n",
       "      <td>files_renamed_accessed</td>\n",
       "      <td>0.000000</td>\n",
       "    </tr>\n",
       "    <tr>\n",
       "      <th>10</th>\n",
       "      <td>files_renamed_read</td>\n",
       "      <td>0.000000</td>\n",
       "    </tr>\n",
       "    <tr>\n",
       "      <th>11</th>\n",
       "      <td>files_renamed_write</td>\n",
       "      <td>0.000000</td>\n",
       "    </tr>\n",
       "    <tr>\n",
       "      <th>12</th>\n",
       "      <td>long_read_ext</td>\n",
       "      <td>0.000000</td>\n",
       "    </tr>\n",
       "  </tbody>\n",
       "</table>\n",
       "</div>"
      ],
      "text/plain": [
       "                   feature  importance\n",
       "5       entropy_write_read    0.640819\n",
       "3          files_write_acc    0.264264\n",
       "8      files_deleted_write    0.074324\n",
       "13          long_write_ext    0.020592\n",
       "0         files_read_write    0.000000\n",
       "1            files_del_acc    0.000000\n",
       "2           files_read_acc    0.000000\n",
       "4        volume_read_write    0.000000\n",
       "6       files_deleted_read    0.000000\n",
       "7        files_deleted_acc    0.000000\n",
       "9   files_renamed_accessed    0.000000\n",
       "10      files_renamed_read    0.000000\n",
       "11     files_renamed_write    0.000000\n",
       "12           long_read_ext    0.000000"
      ]
     },
     "execution_count": 138,
     "metadata": {},
     "output_type": "execute_result"
    }
   ],
   "source": [
    "model = DecisionTreeClassifier()                              \n",
    "\n",
    "model.fit(x_train, y_train)\n",
    "#Качество на тренировочной выборке \n",
    "fold=6\n",
    "print('Средний результат на тренировочной выборке равен ',round(sum(cross_val_score(model,x_train,y_train,scoring=new_scorer,cv=fold,n_jobs=-1))/fold,5))\n",
    "\n",
    "#Важность переменных\n",
    "pd.DataFrame({'feature': x_train.columns,\n",
    "              'importance': model.feature_importances_}).sort_values('importance', ascending=False)"
   ]
  },
  {
   "cell_type": "code",
   "execution_count": 141,
   "metadata": {},
   "outputs": [
    {
     "name": "stderr",
     "output_type": "stream",
     "text": [
      "<ipython-input-141-cbf8ba9be5cb>:2: DataConversionWarning: A column-vector y was passed when a 1d array was expected. Please change the shape of y to (n_samples,), for example using ravel().\n",
      "  model.fit(x_train, y_train)\n"
     ]
    },
    {
     "name": "stdout",
     "output_type": "stream",
     "text": [
      "\n",
      "Точность на тестовой выборке 0.94667 \n",
      "\n",
      "Матрица ошибок\n",
      "     0   1\n",
      "0  21   0\n",
      "1   4  12 \n",
      "\n",
      "              precision    recall  f1-score   support\n",
      "\n",
      "           0       1.00      0.84      0.91        25\n",
      "           1       0.75      1.00      0.86        12\n",
      "\n",
      "    accuracy                           0.89        37\n",
      "   macro avg       0.88      0.92      0.89        37\n",
      "weighted avg       0.92      0.89      0.89        37\n",
      "\n"
     ]
    }
   ],
   "source": [
    "#Качество на тестовой выборке\n",
    "model.fit(x_train, y_train)    \n",
    "y_pred = model.predict(x_test)\n",
    "conf_mat = metrics.confusion_matrix(y_test, y_pred) \n",
    "conf_mat = pd.DataFrame(conf_mat, index=model.classes_, columns=model.classes_)\n",
    "print('\\nТочность на тестовой выборке',round(new_score(y_test,y_pred),5),'\\n')\n",
    "print('Матрица ошибок\\n',conf_mat,'\\n')\n",
    "print (metrics.classification_report(y_pred, y_test))"
   ]
  },
  {
   "cell_type": "code",
   "execution_count": 142,
   "metadata": {
    "scrolled": false
   },
   "outputs": [
    {
     "name": "stdout",
     "output_type": "stream",
     "text": [
      "Fitting 6 folds for each of 900 candidates, totalling 5400 fits\n"
     ]
    },
    {
     "name": "stderr",
     "output_type": "stream",
     "text": [
      "[Parallel(n_jobs=-1)]: Using backend LokyBackend with 4 concurrent workers.\n",
      "[Parallel(n_jobs=-1)]: Batch computation too fast (0.0359s.) Setting batch_size=2.\n",
      "[Parallel(n_jobs=-1)]: Done   5 tasks      | elapsed:    0.0s\n",
      "[Parallel(n_jobs=-1)]: Batch computation too fast (0.0967s.) Setting batch_size=4.\n",
      "[Parallel(n_jobs=-1)]: Done  12 tasks      | elapsed:    0.1s\n",
      "[Parallel(n_jobs=-1)]: Done  28 tasks      | elapsed:    0.3s\n",
      "[Parallel(n_jobs=-1)]: Batch computation too fast (0.1683s.) Setting batch_size=8.\n",
      "[Parallel(n_jobs=-1)]: Done  56 tasks      | elapsed:    0.4s\n",
      "[Parallel(n_jobs=-1)]: Done 128 tasks      | elapsed:    0.9s\n",
      "[Parallel(n_jobs=-1)]: Done 200 tasks      | elapsed:    1.4s\n",
      "[Parallel(n_jobs=-1)]: Done 288 tasks      | elapsed:    2.4s\n",
      "[Parallel(n_jobs=-1)]: Done 376 tasks      | elapsed:    2.9s\n",
      "[Parallel(n_jobs=-1)]: Done 480 tasks      | elapsed:    3.6s\n",
      "[Parallel(n_jobs=-1)]: Done 584 tasks      | elapsed:    4.2s\n",
      "[Parallel(n_jobs=-1)]: Done 704 tasks      | elapsed:    5.1s\n",
      "[Parallel(n_jobs=-1)]: Done 824 tasks      | elapsed:    6.1s\n",
      "[Parallel(n_jobs=-1)]: Done 960 tasks      | elapsed:    7.1s\n",
      "[Parallel(n_jobs=-1)]: Done 1096 tasks      | elapsed:    8.1s\n",
      "[Parallel(n_jobs=-1)]: Done 1248 tasks      | elapsed:    9.1s\n",
      "[Parallel(n_jobs=-1)]: Done 1400 tasks      | elapsed:   10.1s\n",
      "[Parallel(n_jobs=-1)]: Done 1568 tasks      | elapsed:   11.4s\n",
      "[Parallel(n_jobs=-1)]: Done 1736 tasks      | elapsed:   12.4s\n",
      "[Parallel(n_jobs=-1)]: Done 1920 tasks      | elapsed:   13.5s\n",
      "[Parallel(n_jobs=-1)]: Done 2104 tasks      | elapsed:   14.5s\n",
      "[Parallel(n_jobs=-1)]: Done 2304 tasks      | elapsed:   16.0s\n",
      "[Parallel(n_jobs=-1)]: Done 2504 tasks      | elapsed:   17.1s\n",
      "[Parallel(n_jobs=-1)]: Done 2720 tasks      | elapsed:   18.7s\n",
      "[Parallel(n_jobs=-1)]: Done 2936 tasks      | elapsed:   19.9s\n",
      "[Parallel(n_jobs=-1)]: Done 3168 tasks      | elapsed:   21.3s\n",
      "[Parallel(n_jobs=-1)]: Done 3400 tasks      | elapsed:   22.5s\n",
      "[Parallel(n_jobs=-1)]: Done 3648 tasks      | elapsed:   24.2s\n",
      "[Parallel(n_jobs=-1)]: Done 3896 tasks      | elapsed:   26.0s\n",
      "[Parallel(n_jobs=-1)]: Done 4160 tasks      | elapsed:   27.4s\n",
      "[Parallel(n_jobs=-1)]: Done 4424 tasks      | elapsed:   28.8s\n",
      "[Parallel(n_jobs=-1)]: Done 4704 tasks      | elapsed:   30.8s\n",
      "[Parallel(n_jobs=-1)]: Done 4984 tasks      | elapsed:   33.0s\n",
      "[Parallel(n_jobs=-1)]: Done 5280 tasks      | elapsed:   34.7s\n",
      "[Parallel(n_jobs=-1)]: Done 5400 out of 5400 | elapsed:   35.5s finished\n"
     ]
    }
   ],
   "source": [
    "model=DecisionTreeClassifier()\n",
    "param_names = [ 'max_depth','min_samples_split','min_samples_leaf']\n",
    "grids = [np.arange(1,11), np.arange(2, 11),np.arange(1,11)]\n",
    "[means,error,bp,bi,bs]=search(x_train, y_train, model, param_names, grids)"
   ]
  },
  {
   "cell_type": "code",
   "execution_count": 143,
   "metadata": {
    "scrolled": true
   },
   "outputs": [
    {
     "name": "stdout",
     "output_type": "stream",
     "text": [
      "Лучший набор параметров {'max_depth': 3, 'min_samples_leaf': 6, 'min_samples_split': 4}\n",
      "Лучшее значение score при этом наборе параметров 0.96925\n"
     ]
    }
   ],
   "source": [
    "print('Лучший набор параметров {0}'.format(bp))\n",
    "print('Лучшее значение score при этом наборе параметров {0}'.format(round(bs,5)))"
   ]
  },
  {
   "cell_type": "code",
   "execution_count": 144,
   "metadata": {
    "scrolled": true
   },
   "outputs": [
    {
     "name": "stdout",
     "output_type": "stream",
     "text": [
      "Средний результат на тренировочной выборке равен  0.9494\n",
      "\n",
      "Точность на тестовой выборке 0.9089 \n",
      "\n",
      "Матрица ошибок\n",
      "     0   1\n",
      "0  20   1\n",
      "1   3  13 \n",
      "\n",
      "              precision    recall  f1-score   support\n",
      "\n",
      "           0       0.95      0.87      0.91        23\n",
      "           1       0.81      0.93      0.87        14\n",
      "\n",
      "    accuracy                           0.89        37\n",
      "   macro avg       0.88      0.90      0.89        37\n",
      "weighted avg       0.90      0.89      0.89        37\n",
      "\n"
     ]
    }
   ],
   "source": [
    "model = DecisionTreeClassifier(random_state=3,\n",
    "                               max_depth=bp['max_depth'],\n",
    "                               min_samples_split=bp['min_samples_split'],\n",
    "                               min_samples_leaf=bp['min_samples_leaf']\n",
    "                              )\n",
    "fold=6\n",
    "print('Средний результат на тренировочной выборке равен ',round(sum(cross_val_score(model,x_train,y_train,scoring=new_scorer,cv=fold,n_jobs=-1))/fold,5))\n",
    "\n",
    "model.fit(x_train, y_train)    \n",
    "y_pred = model.predict(x_test)\n",
    "conf_mat = metrics.confusion_matrix(y_test, y_pred) \n",
    "conf_mat = pd.DataFrame(conf_mat, index=model.classes_, columns=model.classes_)\n",
    "print('\\nТочность на тестовой выборке',round(new_score(y_test,y_pred),5),'\\n')\n",
    "print('Матрица ошибок\\n',conf_mat,'\\n')\n",
    "print (metrics.classification_report(y_pred, y_test))"
   ]
  },
  {
   "cell_type": "markdown",
   "metadata": {},
   "source": [
    "#### Метод ближайших соседей"
   ]
  },
  {
   "cell_type": "code",
   "execution_count": 145,
   "metadata": {},
   "outputs": [
    {
     "name": "stdout",
     "output_type": "stream",
     "text": [
      "Средний результат на тренировочной выборке равен  0.87718\n",
      "\n",
      "Точность на тестовой выборке 0.82738 \n",
      "\n",
      "Матрица ошибок\n",
      "     0   1\n",
      "0  18   3\n",
      "1   3  13 \n",
      "\n",
      "              precision    recall  f1-score   support\n",
      "\n",
      "           0       0.86      0.86      0.86        21\n",
      "           1       0.81      0.81      0.81        16\n",
      "\n",
      "    accuracy                           0.84        37\n",
      "   macro avg       0.83      0.83      0.83        37\n",
      "weighted avg       0.84      0.84      0.84        37\n",
      "\n"
     ]
    },
    {
     "name": "stderr",
     "output_type": "stream",
     "text": [
      "<ipython-input-145-077a2bae1684>:5: DataConversionWarning: A column-vector y was passed when a 1d array was expected. Please change the shape of y to (n_samples, ), for example using ravel().\n",
      "  model.fit(x_train, y_train)\n"
     ]
    }
   ],
   "source": [
    "model = KNeighborsClassifier ()\n",
    "fold=6\n",
    "print('Средний результат на тренировочной выборке равен ',round(sum(cross_val_score(model,x_train,y_train,scoring=new_scorer,cv=fold,n_jobs=-1))/fold,5))\n",
    "\n",
    "model.fit(x_train, y_train)    \n",
    "y_pred = model.predict(x_test)\n",
    "conf_mat = metrics.confusion_matrix(y_test, y_pred) \n",
    "conf_mat = pd.DataFrame(conf_mat, index=model.classes_, columns=model.classes_)\n",
    "print('\\nТочность на тестовой выборке',round(new_score(y_test,y_pred),5),'\\n')\n",
    "print('Матрица ошибок\\n',conf_mat,'\\n')\n",
    "print (metrics.classification_report(y_pred, y_test))"
   ]
  },
  {
   "cell_type": "code",
   "execution_count": 146,
   "metadata": {},
   "outputs": [
    {
     "name": "stdout",
     "output_type": "stream",
     "text": [
      "Fitting 6 folds for each of 140 candidates, totalling 840 fits\n"
     ]
    },
    {
     "name": "stderr",
     "output_type": "stream",
     "text": [
      "[Parallel(n_jobs=-1)]: Using backend LokyBackend with 4 concurrent workers.\n",
      "[Parallel(n_jobs=-1)]: Batch computation too fast (0.0539s.) Setting batch_size=2.\n",
      "[Parallel(n_jobs=-1)]: Done   5 tasks      | elapsed:    0.0s\n",
      "[Parallel(n_jobs=-1)]: Done  13 tasks      | elapsed:    0.2s\n",
      "[Parallel(n_jobs=-1)]: Batch computation too fast (0.1954s.) Setting batch_size=4.\n",
      "[Parallel(n_jobs=-1)]: Done  26 tasks      | elapsed:    0.3s\n",
      "[Parallel(n_jobs=-1)]: Done  40 tasks      | elapsed:    0.4s\n",
      "[Parallel(n_jobs=-1)]: Batch computation too fast (0.1739s.) Setting batch_size=8.\n",
      "[Parallel(n_jobs=-1)]: Done  80 tasks      | elapsed:    1.1s\n",
      "[Parallel(n_jobs=-1)]: Done 152 tasks      | elapsed:    1.8s\n",
      "[Parallel(n_jobs=-1)]: Done 240 tasks      | elapsed:    2.5s\n",
      "[Parallel(n_jobs=-1)]: Done 328 tasks      | elapsed:    3.1s\n",
      "[Parallel(n_jobs=-1)]: Done 432 tasks      | elapsed:    3.9s\n",
      "[Parallel(n_jobs=-1)]: Done 536 tasks      | elapsed:    4.6s\n",
      "[Parallel(n_jobs=-1)]: Done 656 tasks      | elapsed:    5.1s\n",
      "[Parallel(n_jobs=-1)]: Done 776 tasks      | elapsed:    5.8s\n",
      "[Parallel(n_jobs=-1)]: Done 840 out of 840 | elapsed:    6.1s finished\n"
     ]
    }
   ],
   "source": [
    "model=KNeighborsClassifier()\n",
    "param_names = ['n_neighbors','weights','metric']\n",
    "grids = [np.arange(1,11), np.array(['uniform','distance']),np.array(['euclidean','manhattan','chebyshev','minkowski','wminkowski','seuclidean','mahalanobis'])]\n",
    "[means,error,bp,bi,bs]=search(x_train, y_train['Class'].ravel(), model, param_names, grids)"
   ]
  },
  {
   "cell_type": "code",
   "execution_count": 147,
   "metadata": {},
   "outputs": [
    {
     "name": "stdout",
     "output_type": "stream",
     "text": [
      "Лучший набор параметров {'metric': 'manhattan', 'n_neighbors': 6, 'weights': 'uniform'}\n",
      "Лучшее значение score при этом наборе параметров 0.91885\n"
     ]
    }
   ],
   "source": [
    "print('Лучший набор параметров {0}'.format(bp))\n",
    "print('Лучшее значение score при этом наборе параметров {0}'.format(round(bs,5)))"
   ]
  },
  {
   "cell_type": "code",
   "execution_count": 148,
   "metadata": {},
   "outputs": [
    {
     "name": "stdout",
     "output_type": "stream",
     "text": [
      "Средний результат на тренировочной выборке равен  0.91885\n",
      "\n",
      "Точность на тестовой выборке 0.78468 \n",
      "\n",
      "Матрица ошибок\n",
      "     0   1\n",
      "0  18   3\n",
      "1   5  11 \n",
      "\n",
      "              precision    recall  f1-score   support\n",
      "\n",
      "           0       0.86      0.78      0.82        23\n",
      "           1       0.69      0.79      0.73        14\n",
      "\n",
      "    accuracy                           0.78        37\n",
      "   macro avg       0.77      0.78      0.78        37\n",
      "weighted avg       0.79      0.78      0.79        37\n",
      "\n"
     ]
    },
    {
     "name": "stderr",
     "output_type": "stream",
     "text": [
      "<ipython-input-148-23435d748807>:5: DataConversionWarning: A column-vector y was passed when a 1d array was expected. Please change the shape of y to (n_samples, ), for example using ravel().\n",
      "  model.fit(x_train, y_train)\n"
     ]
    }
   ],
   "source": [
    "model = KNeighborsClassifier (n_neighbors=bp['n_neighbors'], metric=bp['metric'],weights=bp['weights'])\n",
    "fold=6\n",
    "print('Средний результат на тренировочной выборке равен ',round(sum(cross_val_score(model,x_train,y_train,scoring=new_scorer,cv=fold,n_jobs=-1))/fold,5))\n",
    "\n",
    "model.fit(x_train, y_train)    \n",
    "y_pred = model.predict(x_test)\n",
    "conf_mat = metrics.confusion_matrix(y_test, y_pred) \n",
    "conf_mat = pd.DataFrame(conf_mat, index=model.classes_, columns=model.classes_)\n",
    "print('\\nТочность на тестовой выборке',round(new_score(y_test,y_pred),5),'\\n')\n",
    "print('Матрица ошибок\\n',conf_mat,'\\n')\n",
    "print (metrics.classification_report(y_pred, y_test))"
   ]
  },
  {
   "cell_type": "markdown",
   "metadata": {},
   "source": [
    "#### Случайный лес"
   ]
  },
  {
   "cell_type": "code",
   "execution_count": 149,
   "metadata": {},
   "outputs": [
    {
     "name": "stdout",
     "output_type": "stream",
     "text": [
      "Средний результат на тренировочной выборке равен  0.87851\n"
     ]
    },
    {
     "name": "stderr",
     "output_type": "stream",
     "text": [
      "<ipython-input-149-f857c538deab>:14: DataConversionWarning: A column-vector y was passed when a 1d array was expected. Please change the shape of y to (n_samples,), for example using ravel().\n",
      "  model.fit(x_train, y_train)\n"
     ]
    },
    {
     "name": "stdout",
     "output_type": "stream",
     "text": [
      "\n",
      "Точность на тестовой выборке 0.9359 \n",
      "\n",
      "Матрица ошибок\n",
      "     0   1\n",
      "0  21   0\n",
      "1   5  11 \n",
      "\n",
      "              precision    recall  f1-score   support\n",
      "\n",
      "           0       1.00      0.81      0.89        26\n",
      "           1       0.69      1.00      0.81        11\n",
      "\n",
      "    accuracy                           0.86        37\n",
      "   macro avg       0.84      0.90      0.85        37\n",
      "weighted avg       0.91      0.86      0.87        37\n",
      "\n"
     ]
    }
   ],
   "source": [
    "model = RandomForestClassifier(#random_state=42,\n",
    "                               n_estimators=150,\n",
    "                               criterion='gini',\n",
    "                               max_depth=8,\n",
    "                               min_samples_split=2,\n",
    "                               min_samples_leaf=1,\n",
    "                               oob_score=True,\n",
    "                               warm_start=False,\n",
    "                               class_weight=None)\n",
    "\n",
    "fold=6\n",
    "print('Средний результат на тренировочной выборке равен ',round(sum(cross_val_score(model,x_train,y_train,scoring=new_scorer,cv=fold,n_jobs=-1))/fold,5))\n",
    "\n",
    "model.fit(x_train, y_train)    \n",
    "y_pred = model.predict(x_test)\n",
    "conf_mat = metrics.confusion_matrix(y_test, y_pred) \n",
    "conf_mat = pd.DataFrame(conf_mat, index=model.classes_, columns=model.classes_)\n",
    "print('\\nТочность на тестовой выборке',round(new_score(y_test,y_pred),5),'\\n')\n",
    "print('Матрица ошибок\\n',conf_mat,'\\n')\n",
    "print (metrics.classification_report(y_pred, y_test))"
   ]
  },
  {
   "cell_type": "code",
   "execution_count": 134,
   "metadata": {},
   "outputs": [
    {
     "name": "stdout",
     "output_type": "stream",
     "text": [
      "Fitting 6 folds for each of 294 candidates, totalling 1764 fits\n"
     ]
    },
    {
     "name": "stderr",
     "output_type": "stream",
     "text": [
      "[Parallel(n_jobs=-1)]: Using backend LokyBackend with 4 concurrent workers.\n",
      "[Parallel(n_jobs=-1)]: Done   5 tasks      | elapsed:    1.3s\n",
      "[Parallel(n_jobs=-1)]: Done  10 tasks      | elapsed:    2.5s\n",
      "[Parallel(n_jobs=-1)]: Done  17 tasks      | elapsed:    4.9s\n",
      "[Parallel(n_jobs=-1)]: Done  24 tasks      | elapsed:    6.8s\n",
      "[Parallel(n_jobs=-1)]: Done  33 tasks      | elapsed:   10.1s\n",
      "[Parallel(n_jobs=-1)]: Done  42 tasks      | elapsed:   12.4s\n",
      "[Parallel(n_jobs=-1)]: Done  53 tasks      | elapsed:   15.8s\n",
      "[Parallel(n_jobs=-1)]: Done  64 tasks      | elapsed:   18.5s\n",
      "[Parallel(n_jobs=-1)]: Done  77 tasks      | elapsed:   23.9s\n",
      "[Parallel(n_jobs=-1)]: Done  90 tasks      | elapsed:   27.3s\n",
      "[Parallel(n_jobs=-1)]: Done 105 tasks      | elapsed:   32.5s\n",
      "[Parallel(n_jobs=-1)]: Done 120 tasks      | elapsed:   36.4s\n",
      "[Parallel(n_jobs=-1)]: Done 137 tasks      | elapsed:   41.2s\n",
      "[Parallel(n_jobs=-1)]: Done 154 tasks      | elapsed:   45.6s\n",
      "[Parallel(n_jobs=-1)]: Done 173 tasks      | elapsed:   50.6s\n",
      "[Parallel(n_jobs=-1)]: Done 192 tasks      | elapsed:   57.0s\n",
      "[Parallel(n_jobs=-1)]: Done 213 tasks      | elapsed:  1.1min\n",
      "[Parallel(n_jobs=-1)]: Done 234 tasks      | elapsed:  1.2min\n",
      "[Parallel(n_jobs=-1)]: Done 257 tasks      | elapsed:  1.3min\n",
      "[Parallel(n_jobs=-1)]: Done 280 tasks      | elapsed:  1.4min\n",
      "[Parallel(n_jobs=-1)]: Done 305 tasks      | elapsed:  1.5min\n",
      "[Parallel(n_jobs=-1)]: Done 330 tasks      | elapsed:  1.6min\n",
      "[Parallel(n_jobs=-1)]: Done 357 tasks      | elapsed:  1.7min\n",
      "[Parallel(n_jobs=-1)]: Done 384 tasks      | elapsed:  1.8min\n",
      "[Parallel(n_jobs=-1)]: Done 413 tasks      | elapsed:  1.9min\n",
      "[Parallel(n_jobs=-1)]: Done 442 tasks      | elapsed:  2.0min\n",
      "[Parallel(n_jobs=-1)]: Done 473 tasks      | elapsed:  2.2min\n",
      "[Parallel(n_jobs=-1)]: Done 504 tasks      | elapsed:  2.3min\n",
      "[Parallel(n_jobs=-1)]: Done 537 tasks      | elapsed:  2.4min\n",
      "[Parallel(n_jobs=-1)]: Done 570 tasks      | elapsed:  2.6min\n",
      "[Parallel(n_jobs=-1)]: Done 605 tasks      | elapsed:  2.7min\n",
      "[Parallel(n_jobs=-1)]: Done 640 tasks      | elapsed:  2.8min\n",
      "[Parallel(n_jobs=-1)]: Done 677 tasks      | elapsed:  3.0min\n",
      "[Parallel(n_jobs=-1)]: Done 714 tasks      | elapsed:  3.1min\n",
      "[Parallel(n_jobs=-1)]: Done 753 tasks      | elapsed:  3.3min\n",
      "[Parallel(n_jobs=-1)]: Done 792 tasks      | elapsed:  3.4min\n",
      "[Parallel(n_jobs=-1)]: Done 833 tasks      | elapsed:  3.6min\n",
      "[Parallel(n_jobs=-1)]: Done 874 tasks      | elapsed:  3.7min\n",
      "[Parallel(n_jobs=-1)]: Done 917 tasks      | elapsed:  3.9min\n",
      "[Parallel(n_jobs=-1)]: Done 960 tasks      | elapsed:  4.1min\n",
      "[Parallel(n_jobs=-1)]: Done 1005 tasks      | elapsed:  4.2min\n",
      "[Parallel(n_jobs=-1)]: Done 1050 tasks      | elapsed:  4.4min\n",
      "[Parallel(n_jobs=-1)]: Done 1097 tasks      | elapsed:  4.6min\n",
      "[Parallel(n_jobs=-1)]: Done 1144 tasks      | elapsed:  4.8min\n",
      "[Parallel(n_jobs=-1)]: Done 1193 tasks      | elapsed:  5.0min\n",
      "[Parallel(n_jobs=-1)]: Done 1242 tasks      | elapsed:  5.2min\n",
      "[Parallel(n_jobs=-1)]: Done 1293 tasks      | elapsed:  5.4min\n",
      "[Parallel(n_jobs=-1)]: Done 1344 tasks      | elapsed:  5.6min\n",
      "[Parallel(n_jobs=-1)]: Done 1397 tasks      | elapsed:  5.8min\n",
      "[Parallel(n_jobs=-1)]: Done 1450 tasks      | elapsed:  6.0min\n",
      "[Parallel(n_jobs=-1)]: Done 1505 tasks      | elapsed:  6.2min\n",
      "[Parallel(n_jobs=-1)]: Done 1560 tasks      | elapsed:  6.4min\n",
      "[Parallel(n_jobs=-1)]: Done 1617 tasks      | elapsed:  6.6min\n",
      "[Parallel(n_jobs=-1)]: Done 1674 tasks      | elapsed:  6.8min\n",
      "[Parallel(n_jobs=-1)]: Done 1733 tasks      | elapsed:  7.1min\n",
      "[Parallel(n_jobs=-1)]: Done 1764 out of 1764 | elapsed:  7.2min finished\n"
     ]
    }
   ],
   "source": [
    "model=RandomForestClassifier(n_estimators=200)\n",
    "param_names = [ 'max_depth','min_samples_split','min_samples_leaf']\n",
    "grids = [np.arange(5,12), np.arange(2, 8),np.arange(1,8)]\n",
    "[means,error,bp,bi,bs]=search(x_train, y_train['Class'].ravel(), model, param_names, grids)"
   ]
  },
  {
   "cell_type": "code",
   "execution_count": 135,
   "metadata": {},
   "outputs": [
    {
     "name": "stdout",
     "output_type": "stream",
     "text": [
      "Лучший набор параметров {'max_depth': 5, 'min_samples_leaf': 2, 'min_samples_split': 6}\n",
      "Лучшее значение score при этом наборе параметров 0.93353\n"
     ]
    }
   ],
   "source": [
    "print('Лучший набор параметров {0}'.format(bp))\n",
    "print('Лучшее значение score при этом наборе параметров {0}'.format(round(bs,5)))"
   ]
  },
  {
   "cell_type": "code",
   "execution_count": 140,
   "metadata": {},
   "outputs": [
    {
     "name": "stdout",
     "output_type": "stream",
     "text": [
      "Средний результат на тренировочной выборке равен  0.91687\n"
     ]
    },
    {
     "name": "stderr",
     "output_type": "stream",
     "text": [
      "<ipython-input-140-e866b3889dbf>:13: DataConversionWarning: A column-vector y was passed when a 1d array was expected. Please change the shape of y to (n_samples,), for example using ravel().\n",
      "  model.fit(x_train, y_train)\n"
     ]
    },
    {
     "name": "stdout",
     "output_type": "stream",
     "text": [
      "\n",
      "Точность на тестовой выборке 0.94667 \n",
      "\n",
      "Матрица ошибок\n",
      "     0   1\n",
      "0  21   0\n",
      "1   4  12 \n",
      "\n",
      "              precision    recall  f1-score   support\n",
      "\n",
      "           0       1.00      0.84      0.91        25\n",
      "           1       0.75      1.00      0.86        12\n",
      "\n",
      "    accuracy                           0.89        37\n",
      "   macro avg       0.88      0.92      0.89        37\n",
      "weighted avg       0.92      0.89      0.89        37\n",
      "\n"
     ]
    }
   ],
   "source": [
    "model = RandomForestClassifier(random_state=1,\n",
    "                                   n_estimators=200,\n",
    "                                   max_depth=bp['max_depth'],\n",
    "                                   min_samples_split=bp['min_samples_split'],\n",
    "                                   min_samples_leaf=bp['min_samples_leaf'],\n",
    "                                   oob_score=True,\n",
    "                                   warm_start=False,\n",
    "                                   class_weight=None\n",
    "                                  )\n",
    "fold=6\n",
    "print('Средний результат на тренировочной выборке равен ',round(sum(cross_val_score(model,x_train,y_train,scoring=new_scorer,cv=fold,n_jobs=-1))/fold,5))\n",
    "\n",
    "model.fit(x_train, y_train)    \n",
    "y_pred = model.predict(x_test)\n",
    "conf_mat = metrics.confusion_matrix(y_test, y_pred) \n",
    "conf_mat = pd.DataFrame(conf_mat, index=model.classes_, columns=model.classes_)\n",
    "print('\\nТочность на тестовой выборке',round(new_score(y_test,y_pred),5),'\\n')\n",
    "print('Матрица ошибок\\n',conf_mat,'\\n')\n",
    "print (metrics.classification_report(y_pred, y_test))"
   ]
  },
  {
   "cell_type": "markdown",
   "metadata": {},
   "source": [
    "#### Логистическая регрессия"
   ]
  },
  {
   "cell_type": "code",
   "execution_count": 150,
   "metadata": {},
   "outputs": [
    {
     "name": "stdout",
     "output_type": "stream",
     "text": [
      "Средний результат на тренировочной выборке равен  0.86144\n",
      "\n",
      "Точность на тестовой выборке 0.71562 \n",
      "\n",
      "Матрица ошибок\n",
      "     0  1\n",
      "0  18  3\n",
      "1   8  8 \n",
      "\n",
      "              precision    recall  f1-score   support\n",
      "\n",
      "           0       0.86      0.69      0.77        26\n",
      "           1       0.50      0.73      0.59        11\n",
      "\n",
      "    accuracy                           0.70        37\n",
      "   macro avg       0.68      0.71      0.68        37\n",
      "weighted avg       0.75      0.70      0.71        37\n",
      "\n"
     ]
    },
    {
     "name": "stderr",
     "output_type": "stream",
     "text": [
      "C:\\ProgramData\\Anaconda3\\lib\\site-packages\\sklearn\\utils\\validation.py:72: DataConversionWarning: A column-vector y was passed when a 1d array was expected. Please change the shape of y to (n_samples, ), for example using ravel().\n",
      "  return f(**kwargs)\n"
     ]
    }
   ],
   "source": [
    "model = LogisticRegression()\n",
    "\n",
    "fold=6\n",
    "print('Средний результат на тренировочной выборке равен ',round(sum(cross_val_score(model,x_train,y_train,scoring=new_scorer,cv=fold,n_jobs=-1))/fold,5))\n",
    "\n",
    "model.fit(x_train, y_train)    \n",
    "y_pred = model.predict(x_test)\n",
    "conf_mat = metrics.confusion_matrix(y_test, y_pred) \n",
    "conf_mat = pd.DataFrame(conf_mat, index=model.classes_, columns=model.classes_)\n",
    "print('\\nТочность на тестовой выборке',round(new_score(y_test,y_pred),5),'\\n')\n",
    "print('Матрица ошибок\\n',conf_mat,'\\n')\n",
    "print (metrics.classification_report(y_pred, y_test))"
   ]
  },
  {
   "cell_type": "code",
   "execution_count": 151,
   "metadata": {},
   "outputs": [
    {
     "name": "stdout",
     "output_type": "stream",
     "text": [
      "Fitting 6 folds for each of 9 candidates, totalling 54 fits\n"
     ]
    },
    {
     "name": "stderr",
     "output_type": "stream",
     "text": [
      "[Parallel(n_jobs=-1)]: Using backend LokyBackend with 4 concurrent workers.\n",
      "[Parallel(n_jobs=-1)]: Batch computation too fast (0.0239s.) Setting batch_size=2.\n",
      "[Parallel(n_jobs=-1)]: Done   5 tasks      | elapsed:    0.0s\n",
      "[Parallel(n_jobs=-1)]: Batch computation too fast (0.0319s.) Setting batch_size=4.\n",
      "[Parallel(n_jobs=-1)]: Done  12 tasks      | elapsed:    0.0s\n",
      "[Parallel(n_jobs=-1)]: Done  28 tasks      | elapsed:    0.1s\n",
      "[Parallel(n_jobs=-1)]: Batch computation too fast (0.1269s.) Setting batch_size=8.\n",
      "[Parallel(n_jobs=-1)]: Done  44 tasks      | elapsed:    0.2s\n",
      "[Parallel(n_jobs=-1)]: Done  54 out of  54 | elapsed:    0.2s finished\n"
     ]
    }
   ],
   "source": [
    "model = LogisticRegression()\n",
    "param_names = ['penalty','solver']\n",
    "grids = [['l1', 'l2', 'elasticnet'],['newton-cg', 'lbfgs', 'liblinear']]\n",
    "[means,error,bp,bi,bs]=search(x_train, y_train['Class'].ravel(), model, param_names, grids)"
   ]
  },
  {
   "cell_type": "code",
   "execution_count": 152,
   "metadata": {},
   "outputs": [
    {
     "name": "stdout",
     "output_type": "stream",
     "text": [
      "Лучший набор параметров {'penalty': 'l1', 'solver': 'liblinear'}\n",
      "Лучшее значение score при этом наборе параметров 0.87401\n"
     ]
    }
   ],
   "source": [
    "print('Лучший набор параметров {0}'.format(bp))\n",
    "print('Лучшее значение score при этом наборе параметров {0}'.format(round(bs,5)))"
   ]
  },
  {
   "cell_type": "code",
   "execution_count": 153,
   "metadata": {},
   "outputs": [
    {
     "name": "stdout",
     "output_type": "stream",
     "text": [
      "Средний результат на тренировочной выборке равен  0.87401\n",
      "\n",
      "Точность на тестовой выборке 0.7679 \n",
      "\n",
      "Матрица ошибок\n",
      "     0  1\n",
      "0  19  2\n",
      "1   8  8 \n",
      "\n",
      "              precision    recall  f1-score   support\n",
      "\n",
      "           0       0.90      0.70      0.79        27\n",
      "           1       0.50      0.80      0.62        10\n",
      "\n",
      "    accuracy                           0.73        37\n",
      "   macro avg       0.70      0.75      0.70        37\n",
      "weighted avg       0.80      0.73      0.74        37\n",
      "\n"
     ]
    },
    {
     "name": "stderr",
     "output_type": "stream",
     "text": [
      "C:\\ProgramData\\Anaconda3\\lib\\site-packages\\sklearn\\utils\\validation.py:72: DataConversionWarning: A column-vector y was passed when a 1d array was expected. Please change the shape of y to (n_samples, ), for example using ravel().\n",
      "  return f(**kwargs)\n"
     ]
    }
   ],
   "source": [
    "model = LogisticRegression(multi_class='auto',penalty=bp['penalty'],solver=bp['solver'])\n",
    "\n",
    "fold=6\n",
    "print('Средний результат на тренировочной выборке равен ',round(sum(cross_val_score(model,x_train,y_train,scoring=new_scorer,cv=fold,n_jobs=-1))/fold,5))\n",
    "\n",
    "model.fit(x_train, y_train)    \n",
    "y_pred = model.predict(x_test)\n",
    "conf_mat = metrics.confusion_matrix(y_test, y_pred) \n",
    "conf_mat = pd.DataFrame(conf_mat, index=model.classes_, columns=model.classes_)\n",
    "print('\\nТочность на тестовой выборке',round(new_score(y_test,y_pred),5),'\\n')\n",
    "print('Матрица ошибок\\n',conf_mat,'\\n')\n",
    "print (metrics.classification_report(y_pred, y_test))"
   ]
  },
  {
   "cell_type": "markdown",
   "metadata": {},
   "source": [
    "#### Support vector machine"
   ]
  },
  {
   "cell_type": "code",
   "execution_count": 154,
   "metadata": {},
   "outputs": [
    {
     "name": "stdout",
     "output_type": "stream",
     "text": [
      "Средний результат на тренировочной выборке равен  0.83598\n",
      "\n",
      "Точность на тестовой выборке 0.76218 \n",
      "\n",
      "Матрица ошибок\n",
      "     0   1\n",
      "0  16   5\n",
      "1   3  13 \n",
      "\n",
      "              precision    recall  f1-score   support\n",
      "\n",
      "           0       0.76      0.84      0.80        19\n",
      "           1       0.81      0.72      0.76        18\n",
      "\n",
      "    accuracy                           0.78        37\n",
      "   macro avg       0.79      0.78      0.78        37\n",
      "weighted avg       0.79      0.78      0.78        37\n",
      "\n"
     ]
    },
    {
     "name": "stderr",
     "output_type": "stream",
     "text": [
      "C:\\ProgramData\\Anaconda3\\lib\\site-packages\\sklearn\\utils\\validation.py:72: DataConversionWarning: A column-vector y was passed when a 1d array was expected. Please change the shape of y to (n_samples, ), for example using ravel().\n",
      "  return f(**kwargs)\n"
     ]
    }
   ],
   "source": [
    "model = SVC(kernel='linear')\n",
    "\n",
    "fold=6\n",
    "print('Средний результат на тренировочной выборке равен ',round(sum(cross_val_score(model,x_train,y_train,scoring=new_scorer,cv=fold,n_jobs=-1))/fold,5))\n",
    "\n",
    "model.fit(x_train, y_train)    \n",
    "y_pred = model.predict(x_test)\n",
    "conf_mat = metrics.confusion_matrix(y_test, y_pred) \n",
    "conf_mat = pd.DataFrame(conf_mat, index=model.classes_, columns=model.classes_)\n",
    "print('\\nТочность на тестовой выборке',round(new_score(y_test,y_pred),5),'\\n')\n",
    "print('Матрица ошибок\\n',conf_mat,'\\n')\n",
    "print (metrics.classification_report(y_pred, y_test))"
   ]
  },
  {
   "cell_type": "code",
   "execution_count": 155,
   "metadata": {},
   "outputs": [
    {
     "name": "stdout",
     "output_type": "stream",
     "text": [
      "Fitting 6 folds for each of 800 candidates, totalling 4800 fits\n"
     ]
    },
    {
     "name": "stderr",
     "output_type": "stream",
     "text": [
      "[Parallel(n_jobs=-1)]: Using backend LokyBackend with 4 concurrent workers.\n",
      "[Parallel(n_jobs=-1)]: Batch computation too fast (0.0240s.) Setting batch_size=2.\n",
      "[Parallel(n_jobs=-1)]: Done   5 tasks      | elapsed:    0.0s\n",
      "[Parallel(n_jobs=-1)]: Batch computation too fast (0.0638s.) Setting batch_size=4.\n",
      "[Parallel(n_jobs=-1)]: Done  12 tasks      | elapsed:    0.0s\n",
      "[Parallel(n_jobs=-1)]: Done  28 tasks      | elapsed:    0.1s\n",
      "[Parallel(n_jobs=-1)]: Batch computation too fast (0.0970s.) Setting batch_size=8.\n",
      "[Parallel(n_jobs=-1)]: Done  56 tasks      | elapsed:    0.3s\n",
      "[Parallel(n_jobs=-1)]: Batch computation too fast (0.1735s.) Setting batch_size=16.\n",
      "[Parallel(n_jobs=-1)]: Done 136 tasks      | elapsed:    0.9s\n",
      "[Parallel(n_jobs=-1)]: Done 280 tasks      | elapsed:    1.8s\n",
      "[Parallel(n_jobs=-1)]: Done 456 tasks      | elapsed:    2.7s\n",
      "[Parallel(n_jobs=-1)]: Done 632 tasks      | elapsed:    3.4s\n",
      "[Parallel(n_jobs=-1)]: Done 840 tasks      | elapsed:    4.6s\n",
      "[Parallel(n_jobs=-1)]: Done 1048 tasks      | elapsed:    5.8s\n",
      "[Parallel(n_jobs=-1)]: Done 1288 tasks      | elapsed:    7.4s\n",
      "[Parallel(n_jobs=-1)]: Done 1528 tasks      | elapsed:    8.8s\n",
      "[Parallel(n_jobs=-1)]: Done 1800 tasks      | elapsed:   10.2s\n",
      "[Parallel(n_jobs=-1)]: Done 2072 tasks      | elapsed:   13.0s\n",
      "[Parallel(n_jobs=-1)]: Done 2376 tasks      | elapsed:   15.6s\n",
      "[Parallel(n_jobs=-1)]: Done 2680 tasks      | elapsed:   17.5s\n",
      "[Parallel(n_jobs=-1)]: Done 3016 tasks      | elapsed:   19.7s\n",
      "[Parallel(n_jobs=-1)]: Done 3352 tasks      | elapsed:   22.0s\n",
      "[Parallel(n_jobs=-1)]: Done 3720 tasks      | elapsed:   23.8s\n",
      "[Parallel(n_jobs=-1)]: Done 4088 tasks      | elapsed:   25.7s\n",
      "[Parallel(n_jobs=-1)]: Done 4488 tasks      | elapsed:   27.9s\n",
      "[Parallel(n_jobs=-1)]: Done 4800 out of 4800 | elapsed:   29.2s finished\n"
     ]
    }
   ],
   "source": [
    "model = SVC()\n",
    "param_names = ['kernel','C']\n",
    "grids = [['linear','poly','rbf','sigmoid'],np.linspace(1,10,200)]#[1,1.1,1.2,1.3,1.5,2,3,4,5,10,100,1000]]\n",
    "[means,error,bp,bi,bs]=search(x_train, y_train['Class'].ravel(), model, param_names, grids)"
   ]
  },
  {
   "cell_type": "code",
   "execution_count": 156,
   "metadata": {},
   "outputs": [
    {
     "name": "stdout",
     "output_type": "stream",
     "text": [
      "Лучший набор параметров {'C': 2.9899497487437188, 'kernel': 'linear'}\n",
      "Лучшее значение score при этом наборе параметров 0.86376\n"
     ]
    }
   ],
   "source": [
    "print('Лучший набор параметров {0}'.format(bp))\n",
    "print('Лучшее значение score при этом наборе параметров {0}'.format(round(bs,5)))"
   ]
  },
  {
   "cell_type": "code",
   "execution_count": 157,
   "metadata": {},
   "outputs": [
    {
     "name": "stdout",
     "output_type": "stream",
     "text": [
      "Средний результат на тренировочной выборке равен  0.86376\n",
      "\n",
      "Точность на тестовой выборке 0.82738 \n",
      "\n",
      "Матрица ошибок\n",
      "     0   1\n",
      "0  18   3\n",
      "1   3  13 \n",
      "\n",
      "              precision    recall  f1-score   support\n",
      "\n",
      "           0       0.86      0.86      0.86        21\n",
      "           1       0.81      0.81      0.81        16\n",
      "\n",
      "    accuracy                           0.84        37\n",
      "   macro avg       0.83      0.83      0.83        37\n",
      "weighted avg       0.84      0.84      0.84        37\n",
      "\n"
     ]
    },
    {
     "name": "stderr",
     "output_type": "stream",
     "text": [
      "C:\\ProgramData\\Anaconda3\\lib\\site-packages\\sklearn\\utils\\validation.py:72: DataConversionWarning: A column-vector y was passed when a 1d array was expected. Please change the shape of y to (n_samples, ), for example using ravel().\n",
      "  return f(**kwargs)\n"
     ]
    }
   ],
   "source": [
    "model = SVC(kernel=bp['kernel'], C=bp['C'])\n",
    "\n",
    "fold=6\n",
    "print('Средний результат на тренировочной выборке равен ',round(sum(cross_val_score(model,x_train,y_train,scoring=new_scorer,cv=fold,n_jobs=-1))/fold,5))\n",
    "\n",
    "model.fit(x_train, y_train)    \n",
    "y_pred = model.predict(x_test)\n",
    "conf_mat = metrics.confusion_matrix(y_test, y_pred) \n",
    "conf_mat = pd.DataFrame(conf_mat, index=model.classes_, columns=model.classes_)\n",
    "print('\\nТочность на тестовой выборке',round(new_score(y_test,y_pred),5),'\\n')\n",
    "print('Матрица ошибок\\n',conf_mat,'\\n')\n",
    "print (metrics.classification_report(y_pred, y_test))"
   ]
  },
  {
   "cell_type": "markdown",
   "metadata": {},
   "source": [
    "#### Naive bayesian method"
   ]
  },
  {
   "cell_type": "code",
   "execution_count": 158,
   "metadata": {},
   "outputs": [
    {
     "name": "stdout",
     "output_type": "stream",
     "text": [
      "Точность на тренировочной выборке 0.8216269841269841\n",
      "Матрица ошибок\n",
      "     0  1\n",
      "0  21  0\n",
      "1  16  0\n",
      "Точность на тестовой выборке nan\n",
      "              precision    recall  f1-score   support\n",
      "\n",
      "           0       1.00      0.57      0.72        37\n",
      "           1       0.00      0.00      0.00         0\n",
      "\n",
      "    accuracy                           0.57        37\n",
      "   macro avg       0.50      0.28      0.36        37\n",
      "weighted avg       1.00      0.57      0.72        37\n",
      "\n"
     ]
    },
    {
     "name": "stderr",
     "output_type": "stream",
     "text": [
      "<ipython-input-120-ab8dd1cb2e38>:7: RuntimeWarning: invalid value encountered in longlong_scalars\n",
      "  specificity=tn/(tn+fp)\n",
      "C:\\ProgramData\\Anaconda3\\lib\\site-packages\\sklearn\\metrics\\_classification.py:1221: UndefinedMetricWarning: Recall and F-score are ill-defined and being set to 0.0 in labels with no true samples. Use `zero_division` parameter to control this behavior.\n",
      "  _warn_prf(average, modifier, msg_start, len(result))\n"
     ]
    }
   ],
   "source": [
    "model = GaussianNB()\n",
    "y_pred = model.fit(x_train, y_train['Class'].ravel()).predict(x_test)\n",
    "model.fit(x_train, y_train['Class'].ravel())\n",
    "fold=6\n",
    "print('Точность на тренировочной выборке', sum(cross_val_score(model,x_train,y_train,scoring=new_scorer,cv=fold,n_jobs=-1))/fold)\n",
    "\n",
    "conf_mat = metrics.confusion_matrix(y_test, y_pred) \n",
    "conf_mat = pd.DataFrame(conf_mat, index=model.classes_, columns=model.classes_)\n",
    "print('Матрица ошибок\\n',conf_mat)\n",
    "print('Точность на тестовой выборке',new_score(y_test,y_pred))\n",
    "print (metrics.classification_report(y_pred, y_test))"
   ]
  },
  {
   "cell_type": "code",
   "execution_count": 69,
   "metadata": {},
   "outputs": [
    {
     "name": "stdout",
     "output_type": "stream",
     "text": [
      "Fitting 6 folds for each of 28 candidates, totalling 168 fits\n"
     ]
    },
    {
     "name": "stderr",
     "output_type": "stream",
     "text": [
      "[Parallel(n_jobs=-1)]: Using backend LokyBackend with 4 concurrent workers.\n",
      "[Parallel(n_jobs=-1)]: Batch computation too fast (0.0269s.) Setting batch_size=2.\n",
      "[Parallel(n_jobs=-1)]: Done   5 tasks      | elapsed:    0.0s\n",
      "[Parallel(n_jobs=-1)]: Batch computation too fast (0.0808s.) Setting batch_size=4.\n",
      "[Parallel(n_jobs=-1)]: Done  12 tasks      | elapsed:    0.0s\n",
      "[Parallel(n_jobs=-1)]: Done  28 tasks      | elapsed:    0.2s\n",
      "[Parallel(n_jobs=-1)]: Batch computation too fast (0.1049s.) Setting batch_size=8.\n",
      "[Parallel(n_jobs=-1)]: Done  56 tasks      | elapsed:    0.3s\n",
      "[Parallel(n_jobs=-1)]: Batch computation too fast (0.1863s.) Setting batch_size=16.\n",
      "[Parallel(n_jobs=-1)]: Done 114 tasks      | elapsed:    0.5s\n",
      "[Parallel(n_jobs=-1)]: Done 130 tasks      | elapsed:    0.6s\n",
      "[Parallel(n_jobs=-1)]: Done 141 tasks      | elapsed:    0.7s\n",
      "[Parallel(n_jobs=-1)]: Done 152 tasks      | elapsed:    0.7s\n",
      "[Parallel(n_jobs=-1)]: Done 168 out of 168 | elapsed:    0.8s finished\n"
     ]
    }
   ],
   "source": [
    "model = GaussianNB()\n",
    "param_names = ['var_smoothing']\n",
    "grids = [[1e-14,(1e-14)/2,1e-13,(1e-13)/2,1e-12,(1e-12)/2,1e-11,(1e-11)/2,1e-10,(1e-10)/2,1e-9,(1e-9)/2,1e-8,(1e-8)/2,1e-7,(1e-7)/2,1e-6,(1e-6)/2,1e-5,(1e-5)/2,1e-4,(1e-4)/2,1e-3,(1e-3)/2,1e-2,(1e-2)/2,1e-1,(1e-1)/2]]\n",
    "[means,error,bp,bi,bs]=search(x_train, y_train['Class'].ravel(), model, param_names, grids)"
   ]
  },
  {
   "cell_type": "code",
   "execution_count": 70,
   "metadata": {},
   "outputs": [
    {
     "name": "stdout",
     "output_type": "stream",
     "text": [
      "Лучший набор параметров {'var_smoothing': 0.001}\n",
      "Лучшее значение score при этом наборе параметров 0.8430555555555558\n"
     ]
    }
   ],
   "source": [
    "print('Лучший набор параметров {0}'.format(bp))\n",
    "print('Лучшее значение score при этом наборе параметров {0}'.format(round(bs,5)))"
   ]
  },
  {
   "cell_type": "code",
   "execution_count": 71,
   "metadata": {},
   "outputs": [
    {
     "name": "stdout",
     "output_type": "stream",
     "text": [
      "Точность на тренировочной выборке 0.8430555555555558\n",
      "Матрица ошибок\n",
      "     0   1\n",
      "0  18   3\n",
      "1   1  15\n",
      "Точность на тестовой выборке 0.8713450292397661\n",
      "              precision    recall  f1-score   support\n",
      "\n",
      "           0       0.86      0.95      0.90        19\n",
      "           1       0.94      0.83      0.88        18\n",
      "\n",
      "    accuracy                           0.89        37\n",
      "   macro avg       0.90      0.89      0.89        37\n",
      "weighted avg       0.90      0.89      0.89        37\n",
      "\n"
     ]
    }
   ],
   "source": [
    "model=GaussianNB(var_smoothing=bp['var_smoothing'])\n",
    "model.fit(x_train, y_train['Class'].ravel())\n",
    "fold=6\n",
    "print('Точность на тренировочной выборке', sum(cross_val_score(model,x_train,y_train,scoring=new_scorer,cv=fold,n_jobs=-1))/fold)\n",
    "\n",
    "y_pred = model.predict(x_test)\n",
    "conf_mat = metrics.confusion_matrix(y_test, y_pred) \n",
    "conf_mat = pd.DataFrame(conf_mat, index=model.classes_, columns=model.classes_)\n",
    "print('Матрица ошибок\\n',conf_mat)\n",
    "print('Точность на тестовой выборке',new_score(y_test,y_pred))\n",
    "print (metrics.classification_report(y_pred, y_test))"
   ]
  }
 ],
 "metadata": {
  "kernelspec": {
   "display_name": "Python 3",
   "language": "python",
   "name": "python3"
  },
  "language_info": {
   "codemirror_mode": {
    "name": "ipython",
    "version": 3
   },
   "file_extension": ".py",
   "mimetype": "text/x-python",
   "name": "python",
   "nbconvert_exporter": "python",
   "pygments_lexer": "ipython3",
   "version": "3.8.5"
  }
 },
 "nbformat": 4,
 "nbformat_minor": 4
}
