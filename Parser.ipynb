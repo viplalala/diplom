{
 "cells": [
  {
   "cell_type": "markdown",
   "metadata": {},
   "source": [
    "#### Подключение библиотек"
   ]
  },
  {
   "cell_type": "code",
   "execution_count": null,
   "metadata": {},
   "outputs": [],
   "source": [
    "import pandas as pd\n",
    "import os"
   ]
  },
  {
   "cell_type": "markdown",
   "metadata": {},
   "source": [
    "#### Обработка файлов с данными"
   ]
  },
  {
   "cell_type": "code",
   "execution_count": null,
   "metadata": {},
   "outputs": [],
   "source": [
    "for i in os.listdir():\n",
    "    if i[-4:]=='.txt':\n",
    "        f=open(i,'r')\n",
    "        fout=open(i[:-4]+'_new.txt','a')\n",
    "        for line in f:\n",
    "            s=line.replace('(ind)','')\n",
    "            s=s.replace('no file extension','')\n",
    "            fout.write(s)\n",
    "            \n",
    "        f.close()\n",
    "        fout.close()"
   ]
  },
  {
   "cell_type": "markdown",
   "metadata": {},
   "source": [
    "#### Получение информации из всех файлов"
   ]
  },
  {
   "cell_type": "code",
   "execution_count": 11,
   "metadata": {},
   "outputs": [],
   "source": [
    "df1=pd.DataFrame(columns=list(pd.read_excel('Description.xlsx')['Column']))\n",
    "for file in os.listdir():\n",
    "    if file[-4:]=='.txt':\n",
    "        df=pd.DataFrame(columns=list(pd.read_excel('Description.xlsx')['Column']))\n",
    "        i=0\n",
    "        j=1\n",
    "        arr=[]\n",
    "        f=open(file)\n",
    "        for line  in f:\n",
    "            if j%28 in [3,4,5,6,7,8,9,10,11]:\n",
    "                arr.append(float(line.split(' ')[2]))\n",
    "                arr.append(float(line.split(' ')[3][:-1]))\n",
    "            elif j%28==13:\n",
    "                arr.append(line.split(' ')[3][:-1])\n",
    "                arr.append(line.split(' ')[1])\n",
    "            elif j%28==14:\n",
    "                arr.append(float(line.split(' ')[1]))\n",
    "                arr.append(float(line.split(' ')[4]))\n",
    "            elif j%28==15:\n",
    "                arr.append(float(line.split(' ')[1]))\n",
    "                arr.append(float(line.split(' ')[3]))\n",
    "                arr.append(float(line.split(' ')[5][:-1]))\n",
    "            elif j%28 in[16,17]:\n",
    "                arr.append(float(line.split(' ')[1][:-1]))\n",
    "            elif j%28 in[18,19]:\n",
    "                arr.append(float(line.split(' ')[1][:-1]))\n",
    "            elif j%28 in[20,21]:\n",
    "                arr.append(float(line.split(' ')[1][:-1]))\n",
    "            elif j%28 in[22,23]:\n",
    "                arr.append(float(line.split(' ')[1][:-1]))\n",
    "            elif j%28==24:\n",
    "                arr.append(float(line.split(' ')[1]))\n",
    "                arr.append(float(line.split(' ')[3]))\n",
    "                arr.append(float(line.split(' ')[5][:-1]))\n",
    "            elif j%28==25:\n",
    "                arr.append(float(line.split(' ')[1][:-1]))\n",
    "            elif j%28 in [26,27]:\n",
    "                s=''\n",
    "                s=s+str(line.split(' ')[1])\n",
    "                if len(line.split(' '))>2:\n",
    "                    for k in range(2,len(line.split(' '))):\n",
    "                        s=s+','+line.split(' ')[k]\n",
    "                s=s[:-1]\n",
    "                arr.append(s)\n",
    "\n",
    "            if j%28==0:\n",
    "                #print(len(arr))\n",
    "                df.loc[i]=arr\n",
    "                arr=[]\n",
    "                i=i+1\n",
    "            j=j+1\n"
   ]
  },
  {
   "cell_type": "markdown",
   "metadata": {},
   "source": [
    "#### Сохранение результатов в excel-файл"
   ]
  },
  {
   "cell_type": "code",
   "execution_count": 13,
   "metadata": {},
   "outputs": [],
   "source": [
    "df1.to_excel('processes.xlsx')"
   ]
  }
 ],
 "metadata": {
  "kernelspec": {
   "display_name": "Python 3",
   "language": "python",
   "name": "python3"
  },
  "language_info": {
   "codemirror_mode": {
    "name": "ipython",
    "version": 3
   },
   "file_extension": ".py",
   "mimetype": "text/x-python",
   "name": "python",
   "nbconvert_exporter": "python",
   "pygments_lexer": "ipython3",
   "version": "3.8.5"
  }
 },
 "nbformat": 4,
 "nbformat_minor": 4
}
